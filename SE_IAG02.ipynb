{
  "nbformat": 4,
  "nbformat_minor": 0,
  "metadata": {
    "colab": {
      "provenance": [],
      "collapsed_sections": [
        "kb4wa_L7h4fC"
      ]
    },
    "kernelspec": {
      "name": "python3",
      "display_name": "Python 3"
    },
    "language_info": {
      "name": "python"
    }
  },
  "cells": [
    {
      "cell_type": "code",
      "source": [
        "!pip install durable-rules\n",
        "!pip install networkx"
      ],
      "metadata": {
        "colab": {
          "base_uri": "https://localhost:8080/"
        },
        "id": "xce5ebjSq6up",
        "outputId": "9a202b1d-4ae3-4691-db7e-0e4ed7ed7cc5"
      },
      "execution_count": 3,
      "outputs": [
        {
          "output_type": "stream",
          "name": "stdout",
          "text": [
            "Requirement already satisfied: durable-rules in /usr/local/lib/python3.10/dist-packages (2.0.28)\n",
            "Requirement already satisfied: networkx in /usr/local/lib/python3.10/dist-packages (3.3)\n"
          ]
        }
      ]
    },
    {
      "cell_type": "markdown",
      "source": [
        "## Apresentação"
      ],
      "metadata": {
        "id": "VTnPwxgasabI"
      }
    },
    {
      "cell_type": "markdown",
      "source": [
        "*durable-rules*\n",
        "\n",
        "Biblioteca do Python que facilita a construção de Sistemas Baseados em Regras (SBR) e lógica complexa. É particularmente útil para criar **Sistemas Especialistas**, fluxos de trabalho automatizados, e processamento de eventos em tempo real. A biblioteca se destaca por consiguir tratar regras  declarativas e por sua eficiência em lidar com grandes volumes de dados e eventos de maneira rápida e escalável.\n",
        "\n",
        "### Componentes Chave do Durable-Rules\n",
        "\n",
        "1. **Regras e Fatos**: No centro de durable-rules estão as regras, que são condições lógicas que, quando satisfeitas por fatos ou eventos, desencadeiam ações específicas. Fatos são unidades de informação que podem ser verificadas contra essas regras.\n",
        "\n",
        "2. **Motores de Regras**: A biblioteca utiliza um motor de regras para avaliar os fatos à luz das regras definidas. Este motor pode processar regras complexas que envolvem múltiplas condições lógicas e relações entre diferentes tipos de dados.\n",
        "\n",
        "3. **Contexto e Sessão**: O contexto é um armazenamento temporário onde os fatos são mantidos durante a avaliação das regras. Uma sessão dentro de durable-rules representa uma instância onde regras e fatos são processados.\n",
        "\n",
        "### Funcionamento do Durable-Rules\n",
        "\n",
        "O funcionamento de`durable-rules pode ser dividido em algumas etapas principais:\n",
        "\n",
        "1. **Definição de Regras**: As regras são definidas em um formato declarativo, especificando condições e ações. As condições determinam quando uma regra é acionada, e as ações definem o que acontece quando a condição é verdadeira.\n",
        "\n",
        "2. **Postagem de Fatos**: Os fatos são dados enviados ao motor de regras, que são analisados em relação às regras definidas. Um fato pode ser qualquer informação relevante, como dados de sensores, entradas de usuário, etc.\n",
        "\n",
        "3. **Avaliação de Regras**: Quando um fato é postado, o motor de regras avalia todas as regras aplicáveis. Se as condições de uma regra são satisfeitas pelo fato, as ações correspondentes são executadas.\n",
        "\n",
        "4. **Execução de Ações**: As ações podem incluir a modificação de fatos, a geração de novos eventos, ou a execução de qualquer código Python, como enviar notificações, iniciar outros processos, etc.\n",
        "\n",
        "5. **Orientada a Eventos**: É altamente adequada para aplicações que necessitam de processamento e resposta em tempo real a eventos.\n",
        "\n",
        "### Vantagens do Durable-Rules\n",
        "\n",
        "- **Desempenho e Escalabilidade**: Projetado para alto desempenho, durable-rules pode processar milhões de mensagens por segundo, sendo ideal para aplicações que necessitam de análise rápida de grandes fluxos de dados.\n",
        "- **Flexibilidade**: Permite a integração com outras tecnologias Python e pode ser usado em diversos cenários de aplicação, de sistemas IoT (Internet das Coisas) a complexos sistemas de monitoramento e alerta.\n",
        "- **Facilidade de Uso**: A sintaxe declarativa simplifica a definição de regras complexas, tornando o código mais limpo e fácil de manter.\n",
        "\n",
        "A biblioteca pode ajudar a criar jogos mais dinâmicos e interativos onde as reações e mudanças no ambiente do jogo são governadas por um conjunto de regras pré-definidas que podem ser dinamicamente ajustadas e expandidas.\n",
        "\n"
      ],
      "metadata": {
        "id": "tUuEk_ISrq3S"
      }
    },
    {
      "cell_type": "markdown",
      "source": [
        "# Aplicações em Games"
      ],
      "metadata": {
        "id": "xThxFBtjIInd"
      }
    },
    {
      "cell_type": "markdown",
      "source": [
        "## Coleta de itens"
      ],
      "metadata": {
        "id": "kb4wa_L7h4fC"
      }
    },
    {
      "cell_type": "code",
      "source": [
        "#Importando  os itens do módulo durable.lang necessários para construção da base de conhecimento\n",
        "from durable.lang import ruleset, when_all, post, m, assert_fact, c\n",
        "\n",
        "# Lista para armazenar mensagens\n",
        "mensagens = []\n",
        "\n",
        "# Definindo as regras do jogo\n",
        "with ruleset('game_rules'):\n",
        "  try:\n",
        "    # Regra para mostrar um item encontrado ao explorar uma floresta\n",
        "    @when_all((m.event == 'explorar') & (m.location == 'floresta'))\n",
        "    def encontrar_item_floresta(c):\n",
        "        mensagens.append('Você encontrou uma espada na floresta!')\n",
        "\n",
        "    # Regra para mostrar um item encontrado ao explorar uma  caverna\n",
        "    @when_all((m.event == 'explorar') & (m.location == 'caverna'))\n",
        "    def encontrar_item_caverna(c):\n",
        "        mensagens.append('Você encontrou uma poção de cura na caverna!')\n",
        "\n",
        "    # Regra para mostrar um item encontrado ao explorar uma uma masmorra\n",
        "    @when_all((m.event == 'explorar') & (m.location == 'masmorra'))\n",
        "    def encontrar_item_raro(c):\n",
        "        mensagens.append('Você encontrou um amuleto da sorte na masmorra!')\n",
        "  except Exception as e:\n",
        "    print(f\"Erro ao registrar o ruleset: {e}\")\n"
      ],
      "metadata": {
        "id": "6CKCmKuMLilR"
      },
      "execution_count": null,
      "outputs": []
    },
    {
      "cell_type": "code",
      "source": [
        "# Função para simular a exploração do jogador\n",
        "def explorar_localizacao(localizacao):\n",
        "    assert_fact('game_rules', {'event': 'explorar', 'location': localizacao})"
      ],
      "metadata": {
        "id": "RAduJuW_envA"
      },
      "execution_count": null,
      "outputs": []
    },
    {
      "cell_type": "code",
      "source": [
        "explorar_localizacao('floresta')"
      ],
      "metadata": {
        "id": "qpZZy39qD3TV"
      },
      "execution_count": null,
      "outputs": []
    },
    {
      "cell_type": "code",
      "source": [
        "# Impressão das mensagens\n",
        "for mensagem in mensagens:\n",
        "    print(mensagem)"
      ],
      "metadata": {
        "colab": {
          "base_uri": "https://localhost:8080/"
        },
        "id": "6JNT2_y4L9i3",
        "outputId": "efeb1f24-8e93-4431-bf5d-26596bcc1956"
      },
      "execution_count": null,
      "outputs": [
        {
          "output_type": "stream",
          "name": "stdout",
          "text": [
            "Você encontrou uma espada na floresta!\n"
          ]
        }
      ]
    },
    {
      "cell_type": "markdown",
      "source": [
        "## Saudando o Jogador"
      ],
      "metadata": {
        "id": "k_QtC1o5pcQ8"
      }
    },
    {
      "cell_type": "code",
      "source": [
        "from durable.lang import ruleset, when_all, post, m, assert_fact, c\n",
        "with ruleset('game'):\n",
        "  try:\n",
        "    # antecedente\n",
        "    @when_all(m.subject == 'Player')\n",
        "    def say_hello(c):\n",
        "        # consequente\n",
        "        print ('Hello {0}'.format(c.m.subject))\n",
        "  except Exception as e:\n",
        "    print(f\"Erro ao registrar o ruleset: {e}\")"
      ],
      "metadata": {
        "id": "w8hKxyxcmy5K"
      },
      "execution_count": null,
      "outputs": []
    },
    {
      "cell_type": "code",
      "source": [
        "assert_fact('game',{'subject': 'Player'})"
      ],
      "metadata": {
        "colab": {
          "base_uri": "https://localhost:8080/"
        },
        "id": "rihu55dAm1wp",
        "outputId": "3ee5b9f5-2bdb-4ea1-ed10-3f5ded041643"
      },
      "execution_count": null,
      "outputs": [
        {
          "output_type": "stream",
          "name": "stdout",
          "text": [
            "Hello Player\n"
          ]
        },
        {
          "output_type": "execute_result",
          "data": {
            "text/plain": [
              "{'sid': '0', 'id': 'sid-0', '$s': 1}"
            ]
          },
          "metadata": {},
          "execution_count": 6
        }
      ]
    },
    {
      "cell_type": "markdown",
      "source": [
        "## Comportamento Local\n",
        "Neste exemplo, vamos simular um inimigo que pode ter diferentes comportamentos locais baseados em sua saúde e na distância entre ele e o jogador.\n",
        "\n",
        ">Cenário:\n",
        "\n",
        ">>No Estado de Alerta, ativado na MEF quando o jogador entra no raio de visão do inimigo, o inimigo irá atacar se estiver a uma distância curta do jogador.\n",
        "Se o inimigo estiver a uma distância média, ele tentará se aproximar.\n",
        "Se o inimigo estiver com pouca saúde, ele se afastará, independentemente da distância."
      ],
      "metadata": {
        "id": "c7GPlSSmbJPa"
      }
    },
    {
      "cell_type": "code",
      "source": [
        "from durable.lang import ruleset, when_all, post, m, assert_fact, c\n",
        "\n",
        "with ruleset('alerta'):\n",
        "    # Regra para inimigo se afastar quando a saúde estiver baixa\n",
        "    @when_all( m.health < 20)\n",
        "    def fend(c):\n",
        "        print(c.m)\n",
        "        print('O inimigo está com pouca saúde e se afasta!')\n",
        "    # Regra para inimigo atacar quando estiver perto do jogador\n",
        "    @when_all(m.distance < 10)\n",
        "    def attack(c):\n",
        "        print(c.m)\n",
        "        print('O inimigo ataca o jogador!')\n",
        "\n",
        "    # Regra para inimigo se aproximar ou abordar o jogador se estiver a uma distância média\n",
        "    @when_all((m.distance >= 10) & (m.distance < 30))\n",
        "    def approach(c):\n",
        "        print(c.m)\n",
        "        print('O inimigo aborda o jogador.')\n",
        "\n",
        "    # Regra para inimigo observar quando nenhuma das outras condições for atendida\n",
        "    @when_all(+m.distance & +m.health)\n",
        "    def observe(c):\n",
        "        print('O inimigo observa o jogador.')\n"
      ],
      "metadata": {
        "id": "_dh9yDhYRUvw"
      },
      "execution_count": 1,
      "outputs": []
    },
    {
      "cell_type": "markdown",
      "source": [
        "### Inferência"
      ],
      "metadata": {
        "id": "l5QWLfTedvqC"
      }
    },
    {
      "cell_type": "code",
      "source": [
        "post('alerta', {'health': 15, 'distance': 5})"
      ],
      "metadata": {
        "colab": {
          "base_uri": "https://localhost:8080/"
        },
        "id": "dbQ0BBcMdBLj",
        "outputId": "4037cc22-8714-4bee-c234-4fa32e0e9533"
      },
      "execution_count": 2,
      "outputs": [
        {
          "output_type": "stream",
          "name": "stdout",
          "text": [
            "{'health': 15, 'distance': 5}\n",
            "O inimigo está com pouca saúde e se afasta!\n"
          ]
        },
        {
          "output_type": "execute_result",
          "data": {
            "text/plain": [
              "{'sid': '0', 'id': 'sid-0', '$s': 1}"
            ]
          },
          "metadata": {},
          "execution_count": 2
        }
      ]
    },
    {
      "cell_type": "code",
      "source": [
        "post('alerta', {'health': 30, 'distance': 25})"
      ],
      "metadata": {
        "colab": {
          "base_uri": "https://localhost:8080/"
        },
        "id": "daiTDu4VbwJC",
        "outputId": "357cf193-94fa-4d80-ab15-d497bea066f4"
      },
      "execution_count": 3,
      "outputs": [
        {
          "output_type": "stream",
          "name": "stdout",
          "text": [
            "{'health': 30, 'distance': 25}\n",
            "O inimigo aborda o jogador.\n"
          ]
        },
        {
          "output_type": "execute_result",
          "data": {
            "text/plain": [
              "{'sid': '0', 'id': 'sid-0', '$s': 1}"
            ]
          },
          "metadata": {},
          "execution_count": 3
        }
      ]
    },
    {
      "cell_type": "code",
      "source": [
        "post('alerta', {'health': 50, 'distance': 50})"
      ],
      "metadata": {
        "colab": {
          "base_uri": "https://localhost:8080/"
        },
        "id": "2r2hHvWYajoK",
        "outputId": "434abbde-dac8-4a6c-ad40-ef69673b0443"
      },
      "execution_count": 4,
      "outputs": [
        {
          "output_type": "stream",
          "name": "stdout",
          "text": [
            "O inimigo observa o jogador.\n"
          ]
        },
        {
          "output_type": "execute_result",
          "data": {
            "text/plain": [
              "{'sid': '0', 'id': 'sid-0', '$s': 1}"
            ]
          },
          "metadata": {},
          "execution_count": 4
        }
      ]
    },
    {
      "cell_type": "markdown",
      "source": [
        "### Sofisticando um pouco mais o comportamento do inimigo"
      ],
      "metadata": {
        "id": "LXf0NoDCgSKd"
      }
    },
    {
      "cell_type": "code",
      "source": [
        "from durable.lang import ruleset, when_all, post, m, assert_fact, c\n",
        "\n",
        "with ruleset('alerta'):\n",
        "    # Regra para inimigo se afastar quando a saúde estiver baixa, exceto se o jogador estiver muito longe (definido aqui como maior que 50 unidades de distância)\n",
        "    @when_all((m.health < 20) & (m.distance <= 50))\n",
        "    def fend(c):\n",
        "        print(c.m)\n",
        "        print('O inimigo está com pouca saúde e se afasta, pois o jogador não está longe!')\n",
        "\n",
        "    # Regra para inimigo não fazer nada se a saúde estiver baixa e o jogador estiver muito longe\n",
        "    @when_all((m.health < 20) & (m.distance > 50))\n",
        "    def too_far_to_care(c):\n",
        "        print(c.m)\n",
        "        print('O inimigo está com pouca saúde, mas o jogador está muito longe para se preocupar.')\n",
        "\n",
        "    # Regra para inimigo atacar quando estiver perto do jogador e tiver saúde boa\n",
        "    @when_all((m.distance < 30) & (m.health >= 20))\n",
        "    def attack(c):\n",
        "        print(c.m)\n",
        "        print('O inimigo com saúde boa ataca o jogador !')\n",
        "\n",
        "    # Regra para inimigo se aproximar se estiver a uma distância média e saúde boa\n",
        "    @when_all((m.distance >= 30) & (m.distance < 60) & (m.health >= 20))\n",
        "    def approach(c):\n",
        "        print(c.m)\n",
        "        print('O inimigo aborda o jogador.')\n",
        "\n",
        "    # Regra para inimigo observar quando nenhuma das outras condições for atendida\n",
        "    @when_all(+m.distance & +m.health)\n",
        "    def observe(c):\n",
        "        print(c.m)\n",
        "        print('O inimigo observa o jogador.')\n"
      ],
      "metadata": {
        "id": "Q1JZZs1bfzcp"
      },
      "execution_count": 1,
      "outputs": []
    },
    {
      "cell_type": "markdown",
      "source": [
        "### Inferência"
      ],
      "metadata": {
        "id": "yu19mfosgsUX"
      }
    },
    {
      "cell_type": "code",
      "source": [
        "post('alerta', {'health': 15, 'distance': 40})  # Deve fugir\n",
        "post('alerta', {'health': 15, 'distance': 60})  # Jogador muito longe para se preocupar\n",
        "post('alerta', {'health': 30, 'distance': 20})  # Deve atacar\n",
        "post('alerta', {'health': 30, 'distance': 50})  # Deve se aproximar\n",
        "post('alerta', {'health': 50, 'distance': 70})  # Deve observar"
      ],
      "metadata": {
        "colab": {
          "base_uri": "https://localhost:8080/"
        },
        "id": "YZmxlCzxgyNI",
        "outputId": "3a724b32-9b0b-4a0c-db4f-8f871b3ed500"
      },
      "execution_count": 2,
      "outputs": [
        {
          "output_type": "stream",
          "name": "stdout",
          "text": [
            "{'health': 15, 'distance': 40}\n",
            "O inimigo está com pouca saúde e se afasta, pois o jogador não está longe!\n",
            "{'health': 15, 'distance': 60}\n",
            "O inimigo está com pouca saúde, mas o jogador está muito longe para se preocupar.\n",
            "{'health': 30, 'distance': 20}\n",
            "O inimigo com saúde boa ataca o jogador !\n",
            "{'health': 30, 'distance': 50}\n",
            "O inimigo aborda o jogador.\n",
            "{'health': 50, 'distance': 70}\n",
            "O inimigo observa o jogador.\n"
          ]
        },
        {
          "output_type": "execute_result",
          "data": {
            "text/plain": [
              "{'sid': '0', 'id': 'sid-0', '$s': 1}"
            ]
          },
          "metadata": {},
          "execution_count": 2
        }
      ]
    }
  ]
}