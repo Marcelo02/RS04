{
  "nbformat": 4,
  "nbformat_minor": 0,
  "metadata": {
    "colab": {
      "provenance": []
    },
    "kernelspec": {
      "name": "python3",
      "display_name": "Python 3"
    },
    "language_info": {
      "name": "python"
    }
  },
  "cells": [
    {
      "cell_type": "markdown",
      "source": [
        "## Apresentação\n",
        "Planejamento de tarefas em games envolve representar conhecimento sobre o mundo do jogo e os objetivos do agente de forma estruturada, permitindo que o sistema faça inferências e planeje ações apropriadas. Uma abordagem simples pode envolver a definição de um conjunto de tarefas, recursos, e a relação entre eles, juntamente com um mecanismo básico para o planejamento e execução de tarefas.\n",
        ">>Neste exemplo, temos uma aplicação básica que representa um robô em um ambiente doméstico com o objetivo de limpar uma sala. Usamos uma estrutura de dados de rede semântica para representar as entidades (por exemplo, o robô, as salas, a sujeira) e as relações entre elas (por exemplo, \"está em\", \"precisa de\"). O sistema então usará essa rede para determinar uma sequência de ações para alcançar o objetivo de limpar a sala.\n"
      ],
      "metadata": {
        "id": "0P8HRz62W28u"
      }
    },
    {
      "cell_type": "markdown",
      "source": [
        "## Instalações"
      ],
      "metadata": {
        "id": "KyXdqG8xbwCg"
      }
    },
    {
      "cell_type": "code",
      "source": [
        "!pip install networkx"
      ],
      "metadata": {
        "colab": {
          "base_uri": "https://localhost:8080/"
        },
        "id": "UwbWTmstO5y1",
        "outputId": "49e941d9-b053-416b-a67c-501c4832f4a6"
      },
      "execution_count": null,
      "outputs": [
        {
          "output_type": "stream",
          "name": "stdout",
          "text": [
            "Requirement already satisfied: networkx in /usr/local/lib/python3.10/dist-packages (3.2.1)\n"
          ]
        }
      ]
    },
    {
      "cell_type": "markdown",
      "source": [
        "## Importações"
      ],
      "metadata": {
        "id": "bhNklvx_b2Bw"
      }
    },
    {
      "cell_type": "code",
      "source": [
        "import networkx as nx\n",
        "import matplotlib.pyplot as plt"
      ],
      "metadata": {
        "id": "HE6uVp8nbWhI"
      },
      "execution_count": null,
      "outputs": []
    },
    {
      "cell_type": "markdown",
      "source": [
        "## Implementação da RS"
      ],
      "metadata": {
        "id": "oyCCk6A1b7mg"
      }
    },
    {
      "cell_type": "code",
      "source": [
        "class SemanticNetwork:\n",
        "    def __init__(self):\n",
        "        self.entities = {}\n",
        "        self.relations = []\n",
        "        self.graph = nx.DiGraph()\n",
        "\n",
        "    def add_entity(self, name, attributes):\n",
        "        self.entities[name] = attributes\n",
        "        self.graph.add_node(name, attributes=attributes)\n",
        "\n",
        "    def add_relation(self, entity1, relation, entity2):\n",
        "        self.relations.append((entity1, relation, entity2))\n",
        "        self.graph.add_edge(entity1, entity2, relation=relation)\n",
        "\n",
        "    def find_path(self, start, end, path=[]):\n",
        "        path = path + [start]\n",
        "        if start == end:\n",
        "            return path\n",
        "        if start not in self.entities:\n",
        "            return None\n",
        "        paths = []\n",
        "        for rel in self.relations:\n",
        "            if rel[0] == start and rel[2] not in path:\n",
        "                newpaths = self.find_path(rel[2], end, path)\n",
        "                for newpath in newpaths:\n",
        "                    paths.append(newpath)\n",
        "        return paths\n",
        "\n",
        "    def plan_task(self, task):\n",
        "        if task == \"clean_room\":\n",
        "            robot_location = [key for key, value in self.entities.items() if \"robot\" in value][0]\n",
        "            dirty_rooms = [rel[2] for rel in self.relations if rel[1] == \"is_dirty\"]\n",
        "            for room in dirty_rooms:\n",
        "                path = self.find_path(robot_location, room)\n",
        "                if path:\n",
        "                    print(f\"Moving robot through {path} to clean {room}.\")\n",
        "                    self.relations = [rel for rel in self.relations if not (rel[1] == \"is_dirty\" and rel[2] == room)]\n",
        "                else:\n",
        "                    print(f\"No path to {room}.\")\n",
        "\n",
        "    def visualize_network(self):\n",
        "        pos = nx.spring_layout(self.graph)\n",
        "        labels = {e: self.graph.edges[e]['relation'] for e in self.graph.edges}\n",
        "        nx.draw(self.graph, pos, with_labels=True, node_color='skyblue', node_size=2000, font_size=10, font_weight='bold')\n",
        "        nx.draw_networkx_edge_labels(self.graph, pos, edge_labels=labels, font_color='red')\n",
        "        plt.show()\n"
      ],
      "metadata": {
        "id": "cECGM0fMcHBf"
      },
      "execution_count": null,
      "outputs": []
    },
    {
      "cell_type": "markdown",
      "source": [
        "## Aplicação"
      ],
      "metadata": {
        "id": "WQWwaaEFcO63"
      }
    },
    {
      "cell_type": "code",
      "execution_count": null,
      "metadata": {
        "colab": {
          "base_uri": "https://localhost:8080/",
          "height": 516
        },
        "id": "IY1EG9jgO4FL",
        "outputId": "e615dd0d-643e-4386-f292-982bf6f4d700"
      },
      "outputs": [
        {
          "output_type": "display_data",
          "data": {
            "text/plain": [
              "<Figure size 640x480 with 1 Axes>"
            ],
            "image/png": "[encoded data removed]"
          },
          "metadata": {}
        }
      ],
      "source": [
        "network = SemanticNetwork()\n",
        "network.add_entity(\"Kitchen\", [\"room\"])\n",
        "network.add_entity(\"LivingRoom\", [\"room\"])\n",
        "network.add_entity(\"Robot\", [\"robot\"])\n",
        "\n",
        "network.add_relation(\"Robot\", \"is_in\", \"Kitchen\")\n",
        "network.add_relation(\"LivingRoom\", \"is_dirty\", \"\")\n",
        "network.add_relation(\"Kitchen\", \"connected_to\", \"LivingRoom\")\n",
        "\n",
        "network.visualize_network()"
      ]
    },
    {
      "cell_type": "markdown",
      "source": [
        ">>Plan"
      ],
      "metadata": {
        "id": "7a82WafYYAas"
      }
    },
    {
      "cell_type": "code",
      "source": [
        "network.plan_task(\"clean_room\")"
      ],
      "metadata": {
        "id": "Uot0S_YYPNqc"
      },
      "execution_count": null,
      "outputs": []
    },
    {
      "cell_type": "markdown",
      "source": [
        "#Exercícios\n",
        "\n",
        "1.   Criar um roteiro simplificado para um inimigo que em algum momento do jogo realiza uma campanha que resulte em perdas para jogador\n",
        "2.   Adaptar o código do robô de limpeza para  atender ao roteiro definido na resposta do item 1\n",
        "\n",
        "\n",
        "\n",
        "\n"
      ],
      "metadata": {
        "id": "DpbqCBWQY055"
      }
    }
  ]
}