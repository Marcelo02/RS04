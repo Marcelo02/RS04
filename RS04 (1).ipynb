{
  "cells": [
    {
      "cell_type": "markdown",
      "metadata": {
        "id": "0P8HRz62W28u"
      },
      "source": [
        "## Apresentação\n",
        "Planejamento de tarefas em games envolve representar conhecimento sobre o mundo do jogo e os objetivos do agente de forma estruturada, permitindo que o sistema faça inferências e planeje ações apropriadas. Uma abordagem simples pode envolver a definição de um conjunto de tarefas, recursos, e a relação entre eles, juntamente com um mecanismo básico para o planejamento e execução de tarefas.\n",
        ">>Neste exemplo, temos uma aplicação básica que representa um robô em um ambiente doméstico com o objetivo de limpar uma sala. Usamos uma estrutura de dados de rede semântica para representar as entidades (por exemplo, o robô, as salas, a sujeira) e as relações entre elas (por exemplo, \"está em\", \"precisa de\"). O sistema então usará essa rede para determinar uma sequência de ações para alcançar o objetivo de limpar a sala.\n"
      ]
    },
    {
      "cell_type": "markdown",
      "metadata": {
        "id": "KyXdqG8xbwCg"
      },
      "source": [
        "## Instalações"
      ]
    },
    {
      "cell_type": "code",
      "execution_count": 2,
      "metadata": {
        "colab": {
          "base_uri": "https://localhost:8080/"
        },
        "id": "UwbWTmstO5y1",
        "outputId": "36b17782-6c29-481b-cff0-2270bc237873"
      },
      "outputs": [
        {
          "name": "stdout",
          "output_type": "stream",
          "text": [
            "Requirement already satisfied: networkx in /home/codespace/.local/lib/python3.10/site-packages (3.2.1)\n"
          ]
        }
      ],
      "source": [
        "!pip install networkx"
      ]
    },
    {
      "cell_type": "markdown",
      "metadata": {
        "id": "bhNklvx_b2Bw"
      },
      "source": [
        "## Importações"
      ]
    },
    {
      "cell_type": "code",
      "execution_count": 3,
      "metadata": {
        "id": "HE6uVp8nbWhI"
      },
      "outputs": [],
      "source": [
        "import networkx as nx\n",
        "import matplotlib.pyplot as plt"
      ]
    },
    {
      "cell_type": "markdown",
      "metadata": {
        "id": "oyCCk6A1b7mg"
      },
      "source": [
        "## Implementação da RS"
      ]
    },
    {
      "cell_type": "code",
      "execution_count": 17,
      "metadata": {
        "id": "cECGM0fMcHBf"
      },
      "outputs": [],
      "source": [
        "class SemanticNetwork:\n",
        "    def __init__(self):\n",
        "        self.entities = {}\n",
        "        self.relations = []\n",
        "        self.graph = nx.DiGraph()\n",
        "\n",
        "    def add_entity(self, name, attributes):\n",
        "        self.entities[name] = attributes\n",
        "        self.graph.add_node(name, attributes=attributes)\n",
        "\n",
        "    def add_relation(self, entity1, relation, entity2):\n",
        "        self.relations.append((entity1, relation, entity2))\n",
        "        self.graph.add_edge(entity1, entity2, relation=relation)\n",
        "\n",
        "    def find_path(self, start, end, path=[]):\n",
        "        path = path + [start]\n",
        "        if start == end:\n",
        "            return path\n",
        "        if start not in self.entities:\n",
        "            return None\n",
        "        paths = []\n",
        "        for rel in self.relations:\n",
        "            if rel[0] == start and rel[2] not in path:\n",
        "                newpaths = self.find_path(rel[2], end, path)\n",
        "                if newpaths:\n",
        "                  for newpath in newpaths:\n",
        "                      paths.append(newpath)\n",
        "        return paths\n",
        "\n",
        "    def plan_task(self, task):\n",
        "        if task == \"clean_room\":\n",
        "            robot_location = [key for key, value in self.entities.items() if \"robot\" in value][0]\n",
        "            dirty_rooms = [rel[2] for rel in self.relations if rel[1] == \"is_dirty\"]\n",
        "            for room in dirty_rooms:\n",
        "                path = self.find_path(robot_location, room)\n",
        "                if path:\n",
        "                    print(f\"Moving robot through {path} to clean {room}.\")\n",
        "                    self.relations = [rel for rel in self.relations if not (rel[1] == \"is_dirty\" and rel[2] == room)]\n",
        "                else:\n",
        "                    print(f\"No path to {room}.\")\n",
        "        if task == \"Destroy Generator\":\n",
        "          robot_location = [key for key, value in self.entities.items() if \"robot\" in value][0]\n",
        "          generator_rooms = [key for key, value in self.entities.items() if \"room\" and \"generator\" in value]\n",
        "          print(robot_location)\n",
        "          print(generator_rooms)\n",
        "          for room in generator_rooms:\n",
        "              path = self.find_path(robot_location, room)\n",
        "              if path:\n",
        "                print(f\"Assassino se movendo para {path} para destruir o gerador em {room}\")\n",
        "                self.relations = [rel for rel in self.relations if not (rel[1] == \"connected_to\" and rel[2] == room)]\n",
        "          \n",
        "          #Ele encontra o caminho para as salas que possuem geradores \n",
        "        elif task == \"Find Player\":\n",
        "            robot_location = [key for key, value in self.entities.items() if \"robot\" in value][0]\n",
        "            player_rooms = [rel[2] for rel in self.relations if (rel[1] == \"is_in\" and rel[0] == \"Player\")]\n",
        "            for room in player_rooms:\n",
        "                path = self.find_path(robot_location,room)\n",
        "            if path:\n",
        "                print(f\"Moving robot through {path} to kill player in {room}.\")\n",
        "                self.relations = [rel for rel in self.relations if not (rel[1] == \"connected_to\" and rel[2] == room)]\n",
        "            else:\n",
        "                print(f\"No path to {room}.\")\n",
        "            \n",
        "              \n",
        "          #Ele vai encontrar o caminho para o jogador\n",
        "           \n",
        "          \n",
        "\n",
        "    def visualize_network(self):\n",
        "        pos = nx.spring_layout(self.graph)\n",
        "        labels = {e: self.graph.edges[e]['relation'] for e in self.graph.edges}\n",
        "        nx.draw(self.graph, pos, with_labels=True, node_color='skyblue', node_size=2000, font_size=10, font_weight='bold')\n",
        "        nx.draw_networkx_edge_labels(self.graph, pos, edge_labels=labels, font_color='red')\n",
        "        plt.show()\n"
      ]
    },
    {
      "cell_type": "markdown",
      "metadata": {
        "id": "WQWwaaEFcO63"
      },
      "source": [
        "## Aplicação"
      ]
    },
    {
      "cell_type": "code",
      "execution_count": 18,
      "metadata": {
        "colab": {
          "base_uri": "https://localhost:8080/",
          "height": 516
        },
        "id": "IY1EG9jgO4FL",
        "outputId": "1888d38d-01d1-4cbf-ab1d-89d445e5395c"
      },
      "outputs": [
        {
          "data": {
            "image/png": "[encoded data removed]",
            "text/plain": [
              "<Figure size 640x480 with 1 Axes>"
            ]
          },
          "metadata": {},
          "output_type": "display_data"
        }
      ],
      "source": [
        "network = SemanticNetwork()\n",
        "network.add_entity(\"Kitchen\", [\"room\"])\n",
        "network.add_entity(\"LivingRoom\", [\"room\"])\n",
        "network.add_entity(\"Bathroom\", [\"room\", \"generator\"])\n",
        "network.add_entity(\"GameRoom\", [\"room\", \"generator\"])\n",
        "network.add_entity(\"Player\", [\"room\",\"Player\"])\n",
        "network.add_entity(\"Killer\", [\"robot\"])\n",
        "\n",
        "\n",
        "network.add_relation(\"Killer\", \"is_in\", \"Kitchen\")\n",
        "network.add_relation(\"LivingRoom\", \"connected_to\", \"\")\n",
        "network.add_relation(\"Kitchen\", \"connected_to\", \"LivingRoom\")\n",
        "network.add_relation(\"Kitchen\",\"is_dirty\", \"Bathroom\")\n",
        "network.add_relation(\"Player\",\"is_in\",\"GameRoom\")\n",
        "network.add_relation(\"Kitchen\", \"connected_to\", \"GameRoom\")\n",
        "\n",
        "network.visualize_network()"
      ]
    },
    {
      "cell_type": "markdown",
      "metadata": {
        "id": "7a82WafYYAas"
      },
      "source": [
        ">>Plan"
      ]
    },
    {
      "cell_type": "code",
      "execution_count": 19,
      "metadata": {
        "colab": {
          "base_uri": "https://localhost:8080/"
        },
        "id": "Uot0S_YYPNqc",
        "outputId": "d83586c6-8927-48ff-9010-c6475d7940a2"
      },
      "outputs": [
        {
          "name": "stdout",
          "output_type": "stream",
          "text": [
            "Killer\n",
            "['Bathroom', 'GameRoom']\n",
            "Assassino se movendo para ['Killer', 'Kitchen', 'Bathroom'] para destruir o gerador em Bathroom\n",
            "Assassino se movendo para ['Killer', 'Kitchen', 'GameRoom'] para destruir o gerador em GameRoom\n",
            "No path to GameRoom.\n"
          ]
        }
      ],
      "source": [
        "network.plan_task(\"Destroy Generator\")\n",
        "network.plan_task(\"Find Player\")\n",
        "\n"
      ]
    },
    {
      "cell_type": "markdown",
      "metadata": {
        "id": "DpbqCBWQY055"
      },
      "source": [
        "#Exercícios\n",
        "\n",
        "1.   Criar um roteiro simplificado para um inimigo que em algum momento do jogo realiza uma campanha que resulte em perdas para jogador\n",
        "2.   Adaptar o código do robô de limpeza para  atender ao roteiro definido na resposta do item 1\n",
        "\n",
        "\n",
        "\n",
        "\n"
      ]
    }
  ],
  "metadata": {
    "colab": {
      "provenance": []
    },
    "kernelspec": {
      "display_name": "Python 3",
      "name": "python3"
    },
    "language_info": {
      "codemirror_mode": {
        "name": "ipython",
        "version": 3
      },
      "file_extension": ".py",
      "mimetype": "text/x-python",
      "name": "python",
      "nbconvert_exporter": "python",
      "pygments_lexer": "ipython3",
      "version": "3.10.13"
    }
  },
  "nbformat": 4,
  "nbformat_minor": 0
}
